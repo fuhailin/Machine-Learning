{
 "cells": [
  {
   "cell_type": "code",
   "execution_count": 1,
   "metadata": {},
   "outputs": [
    {
     "name": "stderr",
     "output_type": "stream",
     "text": [
      "c:\\program files\\anaconda3\\envs\\python35\\lib\\site-packages\\sklearn\\cross_validation.py:44: DeprecationWarning: This module was deprecated in version 0.18 in favor of the model_selection module into which all the refactored classes and functions are moved. Also note that the interface of the new CV iterators are different from that of this module. This module will be removed in 0.20.\n",
      "  \"This module will be removed in 0.20.\", DeprecationWarning)\n"
     ]
    }
   ],
   "source": [
    "import gc\n",
    "import numpy as np  # linear algebra\n",
    "import pandas as pd  # data processing, CSV file I/O (e.g. pd.read_csv)\n",
    "import xgboost as xgb"
   ]
  },
  {
   "cell_type": "code",
   "execution_count": 19,
   "metadata": {
    "collapsed": true
   },
   "outputs": [],
   "source": [
    "properties2016 = pd.read_csv('../input/properties_2016.csv', low_memory=False)\n",
    "properties2017 = pd.read_csv('../input/properties_2017.csv', low_memory=False)\n",
    "train2016 = pd.read_csv('../input/train_2016_v2.csv')\n",
    "train2017 = pd.read_csv('../input/train_2017.csv')\n",
    "\n",
    "properties=pd.concat([properties2016,properties2017])\n",
    "train=pd.concat([train2016,train2017])"
   ]
  },
  {
   "cell_type": "code",
   "execution_count": 21,
   "metadata": {},
   "outputs": [
    {
     "data": {
      "text/plain": [
       "584"
      ]
     },
     "execution_count": 21,
     "metadata": {},
     "output_type": "execute_result"
    }
   ],
   "source": [
    "del train2016, train2017,properties2016,properties2017\n",
    "gc.collect()"
   ]
  },
  {
   "cell_type": "code",
   "execution_count": 3,
   "metadata": {
    "collapsed": true
   },
   "outputs": [],
   "source": [
    "for c, dtype in zip(properties.columns, properties.dtypes):\n",
    "    if dtype == np.float64:\n",
    "        properties[c] = properties[c].astype(np.float32)"
   ]
  },
  {
   "cell_type": "code",
   "execution_count": 4,
   "metadata": {},
   "outputs": [
    {
     "name": "stdout",
     "output_type": "stream",
     "text": [
      "Creating training set ...\n"
     ]
    }
   ],
   "source": [
    "print('Creating training set ...')\n",
    "\n",
    "df_train = train.merge(properties, how='left', on='parcelid')"
   ]
  },
  {
   "cell_type": "code",
   "execution_count": 5,
   "metadata": {},
   "outputs": [
    {
     "name": "stdout",
     "output_type": "stream",
     "text": [
      "(335776, 55) (335776,)\n"
     ]
    }
   ],
   "source": [
    "x_train = df_train.drop(['parcelid', 'logerror', 'transactiondate', 'propertyzoningdesc', 'propertycountylandusecode'],\n",
    "                        axis=1)  # XGboost is good at dealing with numbers but definitely not good when dealing with string. So the solution is neither we drop them or transform them.\n",
    "y_train = df_train['logerror'].values\n",
    "print(x_train.shape, y_train.shape)\n",
    "\n",
    "train_columns = x_train.columns\n",
    "\n",
    "for c in x_train.dtypes[x_train.dtypes == object].index.values:  # The columns which are \"object\" types have NaN values and True values. I he's converting the NaNs to False for easier processing.\n",
    "    x_train[c] = (x_train[c] == True)\n",
    "\n",
    "del df_train;\n",
    "gc.collect()\n",
    "\n",
    "split = 80000\n",
    "x_train, y_train, x_valid, y_valid = x_train[:split], y_train[:split], x_train[split:], y_train[split:]\n",
    "\n"
   ]
  },
  {
   "cell_type": "code",
   "execution_count": 6,
   "metadata": {},
   "outputs": [
    {
     "name": "stdout",
     "output_type": "stream",
     "text": [
      "Building DMatrix...\n"
     ]
    },
    {
     "data": {
      "text/plain": [
       "14"
      ]
     },
     "execution_count": 6,
     "metadata": {},
     "output_type": "execute_result"
    }
   ],
   "source": [
    "print('Building DMatrix...')\n",
    "\n",
    "d_train = xgb.DMatrix(x_train, label=y_train)\n",
    "d_valid = xgb.DMatrix(x_valid, label=y_valid)\n",
    "\n",
    "del x_train, x_valid;\n",
    "gc.collect()\n",
    "\n"
   ]
  },
  {
   "cell_type": "code",
   "execution_count": 7,
   "metadata": {},
   "outputs": [
    {
     "name": "stdout",
     "output_type": "stream",
     "text": [
      "Training ...\n",
      "[0]\ttrain-mae:0.489636\tvalid-mae:0.48535\n",
      "Multiple eval metrics have been passed: 'valid-mae' will be used for early stopping.\n",
      "\n",
      "Will train until valid-mae hasn't improved in 100 rounds.\n",
      "[10]\ttrain-mae:0.403782\tvalid-mae:0.399788\n",
      "[20]\ttrain-mae:0.334292\tvalid-mae:0.330464\n",
      "[30]\ttrain-mae:0.278177\tvalid-mae:0.274569\n",
      "[40]\ttrain-mae:0.23302\tvalid-mae:0.229623\n",
      "[50]\ttrain-mae:0.196785\tvalid-mae:0.193646\n",
      "[60]\ttrain-mae:0.167901\tvalid-mae:0.164963\n",
      "[70]\ttrain-mae:0.144949\tvalid-mae:0.14222\n",
      "[80]\ttrain-mae:0.126862\tvalid-mae:0.124312\n",
      "[90]\ttrain-mae:0.112762\tvalid-mae:0.110356\n",
      "[100]\ttrain-mae:0.101856\tvalid-mae:0.09955\n",
      "[110]\ttrain-mae:0.09355\tvalid-mae:0.091308\n",
      "[120]\ttrain-mae:0.08729\tvalid-mae:0.085123\n",
      "[130]\ttrain-mae:0.082641\tvalid-mae:0.080559\n",
      "[140]\ttrain-mae:0.079217\tvalid-mae:0.077232\n",
      "[150]\ttrain-mae:0.07672\tvalid-mae:0.074842\n",
      "[160]\ttrain-mae:0.074897\tvalid-mae:0.073138\n",
      "[170]\ttrain-mae:0.073581\tvalid-mae:0.071936\n",
      "[180]\ttrain-mae:0.07263\tvalid-mae:0.071073\n",
      "[190]\ttrain-mae:0.071928\tvalid-mae:0.07047\n",
      "[200]\ttrain-mae:0.071411\tvalid-mae:0.07004\n",
      "[210]\ttrain-mae:0.071023\tvalid-mae:0.069748\n",
      "[220]\ttrain-mae:0.070731\tvalid-mae:0.069544\n",
      "[230]\ttrain-mae:0.070508\tvalid-mae:0.0694\n",
      "[240]\ttrain-mae:0.070337\tvalid-mae:0.069297\n",
      "[250]\ttrain-mae:0.070201\tvalid-mae:0.069226\n",
      "[260]\ttrain-mae:0.070086\tvalid-mae:0.069178\n",
      "[270]\ttrain-mae:0.069996\tvalid-mae:0.069152\n",
      "[280]\ttrain-mae:0.069916\tvalid-mae:0.069135\n",
      "[290]\ttrain-mae:0.069847\tvalid-mae:0.069119\n",
      "[300]\ttrain-mae:0.069784\tvalid-mae:0.069122\n",
      "[310]\ttrain-mae:0.069739\tvalid-mae:0.069125\n",
      "[320]\ttrain-mae:0.069693\tvalid-mae:0.069132\n",
      "[330]\ttrain-mae:0.069652\tvalid-mae:0.069141\n",
      "[340]\ttrain-mae:0.069618\tvalid-mae:0.069158\n",
      "[350]\ttrain-mae:0.069581\tvalid-mae:0.06917\n",
      "[360]\ttrain-mae:0.069556\tvalid-mae:0.069188\n",
      "[370]\ttrain-mae:0.069527\tvalid-mae:0.069206\n",
      "[380]\ttrain-mae:0.0695\tvalid-mae:0.069221\n",
      "[390]\ttrain-mae:0.069473\tvalid-mae:0.069239\n",
      "Stopping. Best iteration:\n",
      "[293]\ttrain-mae:0.069823\tvalid-mae:0.069114\n",
      "\n"
     ]
    }
   ],
   "source": [
    "print('Training ...')\n",
    "\n",
    "params = {}\n",
    "params['eta'] = 0.02\n",
    "params['objective'] = 'reg:linear'\n",
    "params['eval_metric'] = 'mae'\n",
    "params['max_depth'] = 4\n",
    "params['silent'] = 1\n",
    "\n",
    "watchlist = [(d_train, 'train'), (d_valid, 'valid')]\n",
    "clf = xgb.train(params, d_train, 10000, watchlist, early_stopping_rounds=100, verbose_eval=10)\n",
    "\n",
    "del d_train, d_valid\n",
    "\n"
   ]
  },
  {
   "cell_type": "code",
   "execution_count": null,
   "metadata": {},
   "outputs": [
    {
     "name": "stdout",
     "output_type": "stream",
     "text": [
      "Building test set ...\n"
     ]
    },
    {
     "name": "stderr",
     "output_type": "stream",
     "text": [
      "c:\\program files\\anaconda3\\envs\\python35\\lib\\site-packages\\ipykernel_launcher.py:11: SettingWithCopyWarning: \n",
      "A value is trying to be set on a copy of a slice from a DataFrame.\n",
      "Try using .loc[row_indexer,col_indexer] = value instead\n",
      "\n",
      "See the caveats in the documentation: http://pandas.pydata.org/pandas-docs/stable/indexing.html#indexing-view-versus-copy\n",
      "  # This is added back by InteractiveShellApp.init_path()\n"
     ]
    }
   ],
   "source": [
    "print('Building test set ...')\n",
    "sample = pd.read_csv('../input/sample_submission.csv', low_memory=False)\n",
    "sample['parcelid'] = sample['ParcelId']\n",
    "df_test = sample.merge(properties, on='parcelid', how='left')\n",
    "\n",
    "del properties;\n",
    "gc.collect()\n",
    "\n",
    "x_test = df_test[train_columns]\n",
    "for c in x_test.dtypes[x_test.dtypes == object].index.values:\n",
    "    x_test[c] = (x_test[c] == True)\n",
    "\n",
    "del df_test, sample;\n",
    "gc.collect()\n",
    "\n",
    "d_test = xgb.DMatrix(x_test)\n",
    "\n",
    "del x_test;\n",
    "gc.collect()\n",
    "\n"
   ]
  },
  {
   "cell_type": "code",
   "execution_count": 16,
   "metadata": {},
   "outputs": [
    {
     "ename": "NameError",
     "evalue": "name 'd_test' is not defined",
     "output_type": "error",
     "traceback": [
      "\u001b[1;31m---------------------------------------------------------------------------\u001b[0m",
      "\u001b[1;31mNameError\u001b[0m                                 Traceback (most recent call last)",
      "\u001b[1;32m<ipython-input-16-2ea4792864a9>\u001b[0m in \u001b[0;36m<module>\u001b[1;34m()\u001b[0m\n\u001b[1;32m----> 1\u001b[1;33m \u001b[0md_test\u001b[0m\u001b[1;33m.\u001b[0m\u001b[0mshape\u001b[0m\u001b[1;33m(\u001b[0m\u001b[1;33m)\u001b[0m\u001b[1;33m\u001b[0m\u001b[0m\n\u001b[0m",
      "\u001b[1;31mNameError\u001b[0m: name 'd_test' is not defined"
     ]
    }
   ],
   "source": [
    "d_test.shape()"
   ]
  },
  {
   "cell_type": "code",
   "execution_count": 9,
   "metadata": {},
   "outputs": [
    {
     "name": "stdout",
     "output_type": "stream",
     "text": [
      "Predicting on test ...\n"
     ]
    },
    {
     "data": {
      "text/plain": [
       "0"
      ]
     },
     "execution_count": 9,
     "metadata": {},
     "output_type": "execute_result"
    }
   ],
   "source": [
    "print('Predicting on test ...')\n",
    "\n",
    "p_test = clf.predict(d_test)\n",
    "\n",
    "del d_test;\n",
    "gc.collect()"
   ]
  },
  {
   "cell_type": "code",
   "execution_count": 15,
   "metadata": {},
   "outputs": [
    {
     "data": {
      "text/plain": [
       "(5970434,)"
      ]
     },
     "execution_count": 15,
     "metadata": {},
     "output_type": "execute_result"
    }
   ],
   "source": [
    "p_test.shape"
   ]
  },
  {
   "cell_type": "code",
   "execution_count": 11,
   "metadata": {
    "collapsed": true
   },
   "outputs": [],
   "source": [
    "sub = pd.read_csv('../input/sample_submission.csv')"
   ]
  },
  {
   "cell_type": "code",
   "execution_count": 12,
   "metadata": {},
   "outputs": [
    {
     "data": {
      "text/plain": [
       "(2985217, 7)"
      ]
     },
     "execution_count": 12,
     "metadata": {},
     "output_type": "execute_result"
    }
   ],
   "source": [
    "sub.shape"
   ]
  },
  {
   "cell_type": "code",
   "execution_count": null,
   "metadata": {
    "collapsed": true
   },
   "outputs": [],
   "source": [
    "for c in sub.columns[sub.columns != 'ParcelId']:\n",
    "    sub[c] = p_test\n",
    "\n",
    "from datetime import datetime\n",
    "\n",
    "print('Writing csv ...')\n",
    "sub.to_csv('../submission/xgb_starter{}.csv.gz'.format(datetime.now().strftime('%Y%m%d_%H%M%S')), index=False, float_format='%.4g', compression='gzip')  # Thanks to @inversion\n"
   ]
  }
 ],
 "metadata": {
  "kernelspec": {
   "display_name": "Python 3",
   "language": "python",
   "name": "python3"
  },
  "language_info": {
   "codemirror_mode": {
    "name": "ipython",
    "version": 3
   },
   "file_extension": ".py",
   "mimetype": "text/x-python",
   "name": "python",
   "nbconvert_exporter": "python",
   "pygments_lexer": "ipython3",
   "version": "3.5.4"
  }
 },
 "nbformat": 4,
 "nbformat_minor": 2
}
